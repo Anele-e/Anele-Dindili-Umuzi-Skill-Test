{
 "cells": [
  {
   "cell_type": "markdown",
   "id": "fcaf4a60",
   "metadata": {},
   "source": [
    "## Part 1 "
   ]
  },
  {
   "cell_type": "code",
   "execution_count": 1,
   "id": "43d82d70",
   "metadata": {},
   "outputs": [],
   "source": [
    "import pandas as pd"
   ]
  },
  {
   "cell_type": "code",
   "execution_count": 2,
   "id": "ea0993e8",
   "metadata": {},
   "outputs": [],
   "source": [
    "file = r'../data/Launch Lab Coordiantor Assessment.xlsx'"
   ]
  },
  {
   "cell_type": "markdown",
   "id": "6f0fd9f1",
   "metadata": {},
   "source": [
    "### Loading spreadsheet "
   ]
  },
  {
   "cell_type": "code",
   "execution_count": 4,
   "id": "978c91c3",
   "metadata": {},
   "outputs": [],
   "source": [
    "x = pd.read_excel(file)"
   ]
  },
  {
   "cell_type": "code",
   "execution_count": 5,
   "id": "8f6bd272",
   "metadata": {},
   "outputs": [
    {
     "name": "stdout",
     "output_type": "stream",
     "text": [
      "  Candidate ID       Program Placement Status  Days in Pipeline  \\\n",
      "0        C-101  Data Science           Placed                45   \n",
      "1        C-102     UX Design         Unplaced                92   \n",
      "2        C-103       Web Dev           Placed                33   \n",
      "3        C-104  Data Science         Unplaced                67   \n",
      "4        C-105       Web Dev           Placed                28   \n",
      "\n",
      "   Interviews Attended  Technical Score (1-10)  Soft Skills Score (1-10)  \\\n",
      "0                    5                     8.5                       7.0   \n",
      "1                    9                     6.0                       5.5   \n",
      "2                    3                     9.0                       8.5   \n",
      "3                    7                     7.5                       6.0   \n",
      "4                    2                     8.0                       9.0   \n",
      "\n",
      "  Offer Received Offer Accepted  \n",
      "0            Yes            Yes  \n",
      "1             No             No  \n",
      "2            Yes            Yes  \n",
      "3             No             No  \n",
      "4            Yes            Yes  \n"
     ]
    }
   ],
   "source": [
    "print(x.head())"
   ]
  },
  {
   "cell_type": "markdown",
   "id": "9aa9c5d4",
   "metadata": {},
   "source": [
    "### Calculate Placement rate"
   ]
  },
  {
   "cell_type": "markdown",
   "id": "232aa414",
   "metadata": {},
   "source": [
    "##### From our calculation below, the placement rate per program is at 25% for both Web dev and Data Science and 0% for UX Design"
   ]
  },
  {
   "cell_type": "code",
   "execution_count": 6,
   "id": "dd2c748a",
   "metadata": {},
   "outputs": [
    {
     "name": "stdout",
     "output_type": "stream",
     "text": [
      "Program\n",
      "Data Science    2\n",
      "Web Dev         2\n",
      "dtype: int64\n",
      "8\n"
     ]
    }
   ],
   "source": [
    "placed_candidates = x[x['Placement Status'] == 'Placed'].groupby('Program').size()\n",
    "total_candidates = x['Candidate ID'].count()\n",
    "print(placed_candidates)\n",
    "print(total_candidates)"
   ]
  },
  {
   "cell_type": "code",
   "execution_count": 7,
   "id": "7945bb82",
   "metadata": {},
   "outputs": [
    {
     "name": "stdout",
     "output_type": "stream",
     "text": [
      "Program\n",
      "Data Science    25.0\n",
      "Web Dev         25.0\n",
      "dtype: float64\n"
     ]
    }
   ],
   "source": [
    "placement_rate = (placed_candidates / total_candidates) * 100\n",
    "print(placement_rate)"
   ]
  },
  {
   "cell_type": "markdown",
   "id": "3842aba9",
   "metadata": {},
   "source": [
    "### Compute average \"Days in Pipeline\" for placed vs. unplaced candidates"
   ]
  },
  {
   "cell_type": "markdown",
   "id": "9c2fa043",
   "metadata": {},
   "source": [
    "##### The average days in pipeline for unplaced is longer with a difference of 42.5 days"
   ]
  },
  {
   "cell_type": "code",
   "execution_count": 8,
   "id": "2c376405",
   "metadata": {},
   "outputs": [
    {
     "name": "stdout",
     "output_type": "stream",
     "text": [
      "Placement Status\n",
      "Placed      36.25\n",
      "Unplaced    78.75\n",
      "Name: Days in Pipeline, dtype: float64\n"
     ]
    }
   ],
   "source": [
    "avg_days_in_pipeline = x.groupby('Placement Status')['Days in Pipeline'].mean()\n",
    "print(avg_days_in_pipeline)"
   ]
  },
  {
   "cell_type": "markdown",
   "id": "a59c16d5",
   "metadata": {},
   "source": [
    "### Find correlation between Technical Score and Offer Received (use CORREL)"
   ]
  },
  {
   "cell_type": "markdown",
   "id": "304ec6fb",
   "metadata": {},
   "source": [
    "##### We get a postive correlation between Technical Score and Offer Received"
   ]
  },
  {
   "cell_type": "code",
   "execution_count": 9,
   "id": "961e65fa",
   "metadata": {},
   "outputs": [],
   "source": [
    "x['offer numeric'] = x['Offer Received'].apply(lambda x: 1 if x == 'Yes' else 0)"
   ]
  },
  {
   "cell_type": "code",
   "execution_count": 10,
   "id": "cf4c2ecd",
   "metadata": {},
   "outputs": [
    {
     "name": "stdout",
     "output_type": "stream",
     "text": [
      "0.8754737874097737\n"
     ]
    }
   ],
   "source": [
    "Correlation = x['Technical Score (1-10)'].corr(x['offer numeric'])\n",
    "print(Correlation)"
   ]
  },
  {
   "cell_type": "markdown",
   "id": "507378b7",
   "metadata": {},
   "source": [
    "### Add column: Interviews per Offer = Interviews Attended / Offers Received (treat 0 offers\n",
    "as \"N/A\")"
   ]
  },
  {
   "cell_type": "markdown",
   "id": "dcbc9f81",
   "metadata": {},
   "source": [
    "##### Four candidates did not receive any offers "
   ]
  },
  {
   "cell_type": "code",
   "execution_count": 11,
   "id": "f2561bb1",
   "metadata": {},
   "outputs": [
    {
     "name": "stdout",
     "output_type": "stream",
     "text": [
      "  Candidate ID Interviews Per Offer\n",
      "0        C-101                  5.0\n",
      "1        C-102                  N/A\n",
      "2        C-103                  3.0\n",
      "3        C-104                  N/A\n",
      "4        C-105                  2.0\n",
      "5        C-106                  N/A\n",
      "6        C-107                  4.0\n",
      "7        C-108                  N/A\n"
     ]
    }
   ],
   "source": [
    "x['Interviews Per Offer'] = x.apply(lambda row: row['Interviews Attended'] / 1 if row['Offer Received'] == 'Yes' else 'N/A', axis=1)\n",
    "print(x[['Candidate ID', 'Interviews Per Offer']])\n"
   ]
  },
  {
   "cell_type": "markdown",
   "id": "bd82b3cf",
   "metadata": {},
   "source": [
    "### Flag candidates with Days in Pipeline > 60 AND Placement Status = \"Unplaced\""
   ]
  },
  {
   "cell_type": "markdown",
   "id": "72875681",
   "metadata": {},
   "source": [
    "##### Four candidates with id's C-102, C-104, C-106, C-108 were flaged.\n"
   ]
  },
  {
   "cell_type": "code",
   "execution_count": 12,
   "id": "7d3d6989",
   "metadata": {},
   "outputs": [
    {
     "name": "stdout",
     "output_type": "stream",
     "text": [
      "1    C-102\n",
      "3    C-104\n",
      "5    C-106\n",
      "7    C-108\n",
      "Name: Candidate ID, dtype: object\n"
     ]
    }
   ],
   "source": [
    "flaged_candidates = (x['Days in Pipeline'] > 60) & (x['Placement Status'] == 'Unplaced')\n",
    "print(x[flaged_candidates]['Candidate ID'])"
   ]
  },
  {
   "cell_type": "markdown",
   "id": "152e0b56",
   "metadata": {},
   "source": [
    "### Using IF/AND/OR, create \"High Potential\" flag:"
   ]
  },
  {
   "cell_type": "code",
   "execution_count": 13,
   "id": "2d4fd5b6",
   "metadata": {},
   "outputs": [
    {
     "name": "stdout",
     "output_type": "stream",
     "text": [
      "  Candidate ID Placement Status\n",
      "0        C-101           Placed\n",
      "2        C-103           Placed\n",
      "4        C-105           Placed\n",
      "6        C-107           Placed\n"
     ]
    }
   ],
   "source": [
    "high_potential_candidates = x[(x['Technical Score (1-10)'] >= 8) & (x['Soft Skills Score (1-10)'] >= 7)]\n",
    "print(high_potential_candidates[['Candidate ID', 'Placement Status']])"
   ]
  },
  {
   "cell_type": "markdown",
   "id": "dde8e2a7",
   "metadata": {},
   "source": [
    "### Calculate placement rate for \"High Potential\" vs. others"
   ]
  },
  {
   "cell_type": "markdown",
   "id": "be681d81",
   "metadata": {},
   "source": [
    "##### The placement rate for high potential is 50% vs others"
   ]
  },
  {
   "cell_type": "code",
   "execution_count": 14,
   "id": "350f2be1",
   "metadata": {},
   "outputs": [
    {
     "name": "stdout",
     "output_type": "stream",
     "text": [
      "50.0\n"
     ]
    }
   ],
   "source": [
    "placement_rate_high_potential = high_potential_candidates['Placement Status'].count() / total_candidates * 100\n",
    "print(placement_rate_high_potential)\n"
   ]
  },
  {
   "cell_type": "markdown",
   "id": "4ddc2463",
   "metadata": {},
   "source": [
    "## Part 2"
   ]
  },
  {
   "cell_type": "markdown",
   "id": "0ea1cdea",
   "metadata": {},
   "source": [
    "### Load File"
   ]
  },
  {
   "cell_type": "code",
   "execution_count": 15,
   "id": "52f573eb",
   "metadata": {},
   "outputs": [],
   "source": [
    "file_2 = r'../data/part2.xlsx'"
   ]
  },
  {
   "cell_type": "code",
   "execution_count": 16,
   "id": "b4c79dc4",
   "metadata": {},
   "outputs": [],
   "source": [
    "x2 = pd.read_excel(file_2)"
   ]
  },
  {
   "cell_type": "code",
   "execution_count": 17,
   "id": "7f2891f0",
   "metadata": {},
   "outputs": [
    {
     "data": {
      "text/html": [
       "<div>\n",
       "<style scoped>\n",
       "    .dataframe tbody tr th:only-of-type {\n",
       "        vertical-align: middle;\n",
       "    }\n",
       "\n",
       "    .dataframe tbody tr th {\n",
       "        vertical-align: top;\n",
       "    }\n",
       "\n",
       "    .dataframe thead th {\n",
       "        text-align: right;\n",
       "    }\n",
       "</style>\n",
       "<table border=\"1\" class=\"dataframe\">\n",
       "  <thead>\n",
       "    <tr style=\"text-align: right;\">\n",
       "      <th></th>\n",
       "      <th>Stage</th>\n",
       "      <th>Drop off rate</th>\n",
       "    </tr>\n",
       "  </thead>\n",
       "  <tbody>\n",
       "    <tr>\n",
       "      <th>0</th>\n",
       "      <td>Screening</td>\n",
       "      <td>0.20</td>\n",
       "    </tr>\n",
       "    <tr>\n",
       "      <th>1</th>\n",
       "      <td>Tech Interview</td>\n",
       "      <td>0.35</td>\n",
       "    </tr>\n",
       "    <tr>\n",
       "      <th>2</th>\n",
       "      <td>Final Interview</td>\n",
       "      <td>0.25</td>\n",
       "    </tr>\n",
       "    <tr>\n",
       "      <th>3</th>\n",
       "      <td>Offer</td>\n",
       "      <td>0.10</td>\n",
       "    </tr>\n",
       "  </tbody>\n",
       "</table>\n",
       "</div>"
      ],
      "text/plain": [
       "              Stage  Drop off rate\n",
       "0        Screening            0.20\n",
       "1   Tech Interview            0.35\n",
       "2  Final Interview            0.25\n",
       "3            Offer            0.10"
      ]
     },
     "execution_count": 17,
     "metadata": {},
     "output_type": "execute_result"
    }
   ],
   "source": [
    "x2.head()"
   ]
  },
  {
   "cell_type": "markdown",
   "id": "87369af8",
   "metadata": {},
   "source": [
    "### If 100 candidates start, how many reach each stage?"
   ]
  },
  {
   "cell_type": "code",
   "execution_count": null,
   "id": "708d583b",
   "metadata": {},
   "outputs": [],
   "source": []
  }
 ],
 "metadata": {
  "kernelspec": {
   "display_name": "new (3.13.0)",
   "language": "python",
   "name": "python3"
  },
  "language_info": {
   "codemirror_mode": {
    "name": "ipython",
    "version": 3
   },
   "file_extension": ".py",
   "mimetype": "text/x-python",
   "name": "python",
   "nbconvert_exporter": "python",
   "pygments_lexer": "ipython3",
   "version": "3.13.0"
  }
 },
 "nbformat": 4,
 "nbformat_minor": 5
}
